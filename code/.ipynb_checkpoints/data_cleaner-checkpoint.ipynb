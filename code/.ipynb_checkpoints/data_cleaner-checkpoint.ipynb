{
 "cells": [
  {
   "cell_type": "code",
   "execution_count": 1,
   "id": "506bd32e",
   "metadata": {},
   "outputs": [],
   "source": [
    "import pandas as pd\n",
    "from time import time\n",
    "import datetime"
   ]
  },
  {
   "cell_type": "code",
   "execution_count": 2,
   "id": "b4be45b7",
   "metadata": {},
   "outputs": [],
   "source": [
    "file_path = \"../data/phone data/dat_cumulative.csv\"\n",
    "data1 = pd.read_csv(file_path)"
   ]
  },
  {
   "cell_type": "code",
   "execution_count": 3,
   "id": "76fbb4b5",
   "metadata": {},
   "outputs": [
    {
     "data": {
      "text/html": [
       "<div>\n",
       "<style scoped>\n",
       "    .dataframe tbody tr th:only-of-type {\n",
       "        vertical-align: middle;\n",
       "    }\n",
       "\n",
       "    .dataframe tbody tr th {\n",
       "        vertical-align: top;\n",
       "    }\n",
       "\n",
       "    .dataframe thead th {\n",
       "        text-align: right;\n",
       "    }\n",
       "</style>\n",
       "<table border=\"1\" class=\"dataframe\">\n",
       "  <thead>\n",
       "    <tr style=\"text-align: right;\">\n",
       "      <th></th>\n",
       "      <th>time</th>\n",
       "      <th>gFx</th>\n",
       "      <th>gFy</th>\n",
       "      <th>gFz</th>\n",
       "      <th>TgF</th>\n",
       "    </tr>\n",
       "  </thead>\n",
       "  <tbody>\n",
       "    <tr>\n",
       "      <th>0</th>\n",
       "      <td>0.001792</td>\n",
       "      <td>-0.3123</td>\n",
       "      <td>0.3785</td>\n",
       "      <td>0.5790</td>\n",
       "      <td>0.76</td>\n",
       "    </tr>\n",
       "    <tr>\n",
       "      <th>1</th>\n",
       "      <td>0.001955</td>\n",
       "      <td>-0.3123</td>\n",
       "      <td>0.3785</td>\n",
       "      <td>0.5790</td>\n",
       "      <td>0.76</td>\n",
       "    </tr>\n",
       "    <tr>\n",
       "      <th>2</th>\n",
       "      <td>0.009959</td>\n",
       "      <td>-0.2654</td>\n",
       "      <td>0.3756</td>\n",
       "      <td>0.6433</td>\n",
       "      <td>0.79</td>\n",
       "    </tr>\n",
       "    <tr>\n",
       "      <th>3</th>\n",
       "      <td>0.019970</td>\n",
       "      <td>-0.2021</td>\n",
       "      <td>0.3611</td>\n",
       "      <td>0.7366</td>\n",
       "      <td>0.84</td>\n",
       "    </tr>\n",
       "    <tr>\n",
       "      <th>4</th>\n",
       "      <td>0.030388</td>\n",
       "      <td>-0.1320</td>\n",
       "      <td>0.3509</td>\n",
       "      <td>0.7935</td>\n",
       "      <td>0.88</td>\n",
       "    </tr>\n",
       "  </tbody>\n",
       "</table>\n",
       "</div>"
      ],
      "text/plain": [
       "       time     gFx     gFy     gFz   TgF\n",
       "0  0.001792 -0.3123  0.3785  0.5790  0.76\n",
       "1  0.001955 -0.3123  0.3785  0.5790  0.76\n",
       "2  0.009959 -0.2654  0.3756  0.6433  0.79\n",
       "3  0.019970 -0.2021  0.3611  0.7366  0.84\n",
       "4  0.030388 -0.1320  0.3509  0.7935  0.88"
      ]
     },
     "execution_count": 3,
     "metadata": {},
     "output_type": "execute_result"
    }
   ],
   "source": [
    "data1.head()"
   ]
  },
  {
   "cell_type": "code",
   "execution_count": 4,
   "id": "62d125c8",
   "metadata": {},
   "outputs": [],
   "source": [
    "data1.time = data1.time.round(5)"
   ]
  },
  {
   "cell_type": "code",
   "execution_count": 5,
   "id": "6cb4f7bc",
   "metadata": {},
   "outputs": [
    {
     "data": {
      "text/html": [
       "<div>\n",
       "<style scoped>\n",
       "    .dataframe tbody tr th:only-of-type {\n",
       "        vertical-align: middle;\n",
       "    }\n",
       "\n",
       "    .dataframe tbody tr th {\n",
       "        vertical-align: top;\n",
       "    }\n",
       "\n",
       "    .dataframe thead th {\n",
       "        text-align: right;\n",
       "    }\n",
       "</style>\n",
       "<table border=\"1\" class=\"dataframe\">\n",
       "  <thead>\n",
       "    <tr style=\"text-align: right;\">\n",
       "      <th></th>\n",
       "      <th>time</th>\n",
       "      <th>gFx</th>\n",
       "      <th>gFy</th>\n",
       "      <th>gFz</th>\n",
       "      <th>TgF</th>\n",
       "    </tr>\n",
       "  </thead>\n",
       "  <tbody>\n",
       "    <tr>\n",
       "      <th>0</th>\n",
       "      <td>0.00179</td>\n",
       "      <td>-0.3123</td>\n",
       "      <td>0.3785</td>\n",
       "      <td>0.5790</td>\n",
       "      <td>0.76</td>\n",
       "    </tr>\n",
       "    <tr>\n",
       "      <th>1</th>\n",
       "      <td>0.00196</td>\n",
       "      <td>-0.3123</td>\n",
       "      <td>0.3785</td>\n",
       "      <td>0.5790</td>\n",
       "      <td>0.76</td>\n",
       "    </tr>\n",
       "    <tr>\n",
       "      <th>2</th>\n",
       "      <td>0.00996</td>\n",
       "      <td>-0.2654</td>\n",
       "      <td>0.3756</td>\n",
       "      <td>0.6433</td>\n",
       "      <td>0.79</td>\n",
       "    </tr>\n",
       "    <tr>\n",
       "      <th>3</th>\n",
       "      <td>0.01997</td>\n",
       "      <td>-0.2021</td>\n",
       "      <td>0.3611</td>\n",
       "      <td>0.7366</td>\n",
       "      <td>0.84</td>\n",
       "    </tr>\n",
       "    <tr>\n",
       "      <th>4</th>\n",
       "      <td>0.03039</td>\n",
       "      <td>-0.1320</td>\n",
       "      <td>0.3509</td>\n",
       "      <td>0.7935</td>\n",
       "      <td>0.88</td>\n",
       "    </tr>\n",
       "  </tbody>\n",
       "</table>\n",
       "</div>"
      ],
      "text/plain": [
       "      time     gFx     gFy     gFz   TgF\n",
       "0  0.00179 -0.3123  0.3785  0.5790  0.76\n",
       "1  0.00196 -0.3123  0.3785  0.5790  0.76\n",
       "2  0.00996 -0.2654  0.3756  0.6433  0.79\n",
       "3  0.01997 -0.2021  0.3611  0.7366  0.84\n",
       "4  0.03039 -0.1320  0.3509  0.7935  0.88"
      ]
     },
     "execution_count": 5,
     "metadata": {},
     "output_type": "execute_result"
    }
   ],
   "source": [
    "data1.head()"
   ]
  },
  {
   "cell_type": "code",
   "execution_count": 6,
   "id": "076701e7",
   "metadata": {},
   "outputs": [],
   "source": [
    "data1.to_csv(file_path.split('.csv')[0]+'_rounded.csv', index_label = 'ID')"
   ]
  },
  {
   "cell_type": "code",
   "execution_count": 7,
   "id": "8e9592f9",
   "metadata": {},
   "outputs": [],
   "source": [
    "data1['TS'] = data1.time.apply(lambda x: datetime.datetime(2022, 4, 20) + datetime.timedelta(milliseconds = x*1000))"
   ]
  },
  {
   "cell_type": "code",
   "execution_count": 8,
   "id": "654f5cc8",
   "metadata": {},
   "outputs": [],
   "source": [
    "data1.to_csv(file_path.split('.csv')[0]+'_rounded_tstamp.csv', index_label = 'ID')"
   ]
  }
 ],
 "metadata": {
  "kernelspec": {
   "display_name": "Python 3 (ipykernel)",
   "language": "python",
   "name": "python3"
  },
  "language_info": {
   "codemirror_mode": {
    "name": "ipython",
    "version": 3
   },
   "file_extension": ".py",
   "mimetype": "text/x-python",
   "name": "python",
   "nbconvert_exporter": "python",
   "pygments_lexer": "ipython3",
   "version": "3.7.13"
  }
 },
 "nbformat": 4,
 "nbformat_minor": 5
}
